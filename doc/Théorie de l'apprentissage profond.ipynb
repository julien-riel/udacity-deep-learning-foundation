{
 "cells": [
  {
   "cell_type": "code",
   "execution_count": null,
   "metadata": {
    "collapsed": true
   },
   "outputs": [],
   "source": []
  },
  {
   "cell_type": "markdown",
   "metadata": {},
   "source": [
    "# produit intérieur\n",
    "\n",
    "https://fr.wikipedia.org/wiki/Produit_scalaire\n",
    "\n",
    "$\\left(\n",
    "  \\begin{array}{ c c }\n",
    "     1 & 2 \\\\\n",
    "     3 & 4\n",
    "  \\end{array} \\right)$\n"
   ]
  },
  {
   "cell_type": "markdown",
   "metadata": {},
   "source": [
    "# Inputs\n",
    "\n",
    "$i_1, i_2, i_3$\n",
    "\n",
    "$\\left(\n",
    "  \\begin{array}{ c c }\n",
    "     i_0 \\\\\n",
    "     i_1 \\\\\n",
    "     i_2 \\\\\n",
    "     i_3 \\\\\n",
    "     i_4 \\\\\n",
    "     i_6\n",
    "  \\end{array} \\right)\n",
    "  $\n"
   ]
  },
  {
   "cell_type": "markdown",
   "metadata": {},
   "source": [
    "$\\left(\n",
    "  \\begin{array}{ c c }\n",
    "     w_0 0 & w_01 & 3\\\\\n",
    "     4 & 5 & 6\n",
    "  \\end{array} \\right)$\n"
   ]
  },
  {
   "cell_type": "markdown",
   "metadata": {
    "collapsed": false
   },
   "source": [
    "import numpy as np\n",
    "\n",
    "a = np.array([[1,2,3,4,5]])\n",
    "b =  a * 10\n",
    "\n",
    "print(\"a\", a)\n",
    "print(\"b\", b)\n",
    "\n",
    "b = b + 1\n",
    "print(\"b\", b)\n",
    "\n",
    "c =  np.array([[10, 20, 30, 40, 50]])\n",
    "print(a*c)\n",
    "\n",
    "d =  np.array([[10, 20, 30, 40, 50]]).T\n",
    "e = np.array([\n",
    "        [1,2,3,4,5],\n",
    "        [10,20,30,40,50]\n",
    "    ])\n",
    "eT = e.T\n",
    "f = np.array([\n",
    "        [6,7,8],\n",
    "        [60,70,80]\n",
    "    ])\n",
    "fT = f.T\n",
    "    \n",
    "\n",
    "print(\"Shape a\" , a.shape)\n",
    "print(\"Shape b\" , b.shape)\n",
    "print(\"Shape c\" , c.shape)\n",
    "print(\"Shape d\" , d.shape)\n",
    "print(\"Shape e\" , e.shape)\n",
    "print(\"Shape eT\" , eT.shape)\n",
    "print(\"Shape f\" , f.shape)\n",
    "print(\"Shape fT\" , fT.shape)\n",
    "\n",
    "print(np.dot(eT, f).shape)\n",
    "np.dot(c,d)"
   ]
  },
  {
   "cell_type": "code",
   "execution_count": null,
   "metadata": {
    "collapsed": true
   },
   "outputs": [],
   "source": []
  }
 ],
 "metadata": {
  "anaconda-cloud": {},
  "kernelspec": {
   "display_name": "Python [conda root]",
   "language": "python",
   "name": "conda-root-py"
  },
  "language_info": {
   "codemirror_mode": {
    "name": "ipython",
    "version": 3
   },
   "file_extension": ".py",
   "mimetype": "text/x-python",
   "name": "python",
   "nbconvert_exporter": "python",
   "pygments_lexer": "ipython3",
   "version": "3.5.2"
  }
 },
 "nbformat": 4,
 "nbformat_minor": 1
}

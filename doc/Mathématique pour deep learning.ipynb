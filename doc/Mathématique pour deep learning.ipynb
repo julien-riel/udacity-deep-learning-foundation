{
 "cells": [
  {
   "cell_type": "markdown",
   "metadata": {},
   "source": [
    "# Mathématique pour l'apprentissage profond\n",
    "\n",
    "# Forward pass\n",
    "\n"
   ]
  },
  {
   "cell_type": "markdown",
   "metadata": {},
   "source": [
    "# produit intérieur\n",
    "\n",
    "https://fr.wikipedia.org/wiki/Produit_scalaire\n",
    "\n",
    "$\\left(\n",
    "  \\begin{array}{ c c }\n",
    "     1 & 2 \\\\\n",
    "     3 & 4\n",
    "  \\end{array} \\right)$\n"
   ]
  },
  {
   "cell_type": "markdown",
   "metadata": {},
   "source": [
    "### Couche 0\n",
    "\n",
    "$i_1, i_2, i_3$\n",
    "\n",
    "$\\left(\n",
    "  \\begin{array}{ c c }\n",
    "     i_0 \\\\\n",
    "     i_1 \\\\\n",
    "     i_2 \\\\\n",
    "     i_3 \\\\\n",
    "     i_4 \\\\\n",
    "     i_6\n",
    "  \\end{array} \\right)\n",
    "  $\n",
    "\n",
    "### Poids Couche 0 -> Couche 1\n",
    "$\\left(\n",
    "  \\begin{array}{ c c }\n",
    "     w_{00} & w{01} & w{02} & w{03} & w{04} & w{05} & w{06} \\\\\n",
    "     w_{10} & w{11} & w{12} & w{13} & w{14} & w{15} & w{16} \\\\\n",
    "     w_{20} & w{21} & w{22} & w{23} & w{24} & w{25} & w{26}\n",
    "  \\end{array} \\right)$\n",
    "\n",
    "\n",
    "\n",
    "### Couche 1\n",
    "\n",
    "$i_1, i_2, i_3$\n",
    "\n",
    "$\\left(\n",
    "  \\begin{array}{ c c }\n",
    "     h_0 \\\\\n",
    "     h_1 \\\\\n",
    "     h_2\n",
    "  \\end{array} \\right)\n",
    "  $\n",
    "\n",
    "$layer0Output = input \\bullet weigth$\n",
    "\n",
    "$layer0Activation = activation() * layer0Output$\n",
    "\n"
   ]
  },
  {
   "cell_type": "markdown",
   "metadata": {},
   "source": [
    "$\\left(\n",
    "  \\begin{array}{ c c }\n",
    "     w_0^0 & w_{ij} & 3\\\\\n",
    "     4 & 5 & 6\n",
    "  \\end{array} \\right)$\n"
   ]
  },
  {
   "cell_type": "code",
   "execution_count": null,
   "metadata": {
    "collapsed": true
   },
   "outputs": [],
   "source": []
  }
 ],
 "metadata": {
  "anaconda-cloud": {},
  "kernelspec": {
   "display_name": "Python [conda root]",
   "language": "python",
   "name": "conda-root-py"
  },
  "language_info": {
   "codemirror_mode": {
    "name": "ipython",
    "version": 3
   },
   "file_extension": ".py",
   "mimetype": "text/x-python",
   "name": "python",
   "nbconvert_exporter": "python",
   "pygments_lexer": "ipython3",
   "version": "3.5.2"
  }
 },
 "nbformat": 4,
 "nbformat_minor": 1
}
